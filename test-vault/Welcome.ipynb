{
 "cells": [
  {
   "cell_type": "markdown",
   "id": "7a1224f4-fc3c-4a7f-a16f-b5854209f837",
   "metadata": {},
   "source": [
    "# Jupyter for Obsidian\n",
    "\n",
    "Welcome in the testing vault of the Jupyter plugin for Obsidian! Hope you'll like it (and that it will work)."
   ]
  },
  {
   "cell_type": "code",
   "execution_count": 1,
   "id": "5bed3ad3-e8ba-4d08-86ed-ea1a3bff9b2b",
   "metadata": {},
   "outputs": [
    {
     "data": {
      "text/plain": [
       "[1, 2, 3, 4]"
      ]
     },
     "execution_count": 1,
     "metadata": {},
     "output_type": "execute_result"
    }
   ],
   "source": [
    "my_list = [1, 2, 3, 4]\n",
    "my_list"
   ]
  },
  {
   "cell_type": "markdown",
   "id": "5ceac705-4117-470b-8854-b0f6e748dfdd",
   "metadata": {},
   "source": [
    "Everything working so far? That's already pretty good.\n",
    "\n",
    "To my knowledge, there's no need for much more tests for now. The reason is, as long as we can execute Python, the plugin should be working.\n",
    "\n",
    "**Please [let me know](https://github.com/MaelImhof/obsidian-jupyter/issues) if something is not working for you.**\n",
    "\n",
    "Thank you in advance !"
   ]
  }
 ],
 "metadata": {
  "kernelspec": {
   "display_name": "Python 3 (ipykernel)",
   "language": "python",
   "name": "python3"
  },
  "language_info": {
   "codemirror_mode": {
    "name": "ipython",
    "version": 3
   },
   "file_extension": ".py",
   "mimetype": "text/x-python",
   "name": "python",
   "nbconvert_exporter": "python",
   "pygments_lexer": "ipython3",
   "version": "3.9.18"
  }
 },
 "nbformat": 4,
 "nbformat_minor": 5
}
