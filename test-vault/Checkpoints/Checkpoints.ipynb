{
 "cells": [
  {
   "cell_type": "markdown",
   "id": "7a1224f4-fc3c-4a7f-a16f-b5854209f837",
   "metadata": {},
   "source": [
    "# Jupyter for Obsidian\n",
    "\n",
    "## Checkpoints test\n",
    "\n",
    "Jupyter for Obsidian is capable of detecting and automatically deleting Jupyter checkpoints folder (this is configurable in the settings).\n",
    "\n",
    "Having two `.ipynb` files allows to test more cases with those checkpoints."
   ]
  },
  {
   "cell_type": "code",
   "execution_count": 1,
   "id": "5bed3ad3-e8ba-4d08-86ed-ea1a3bff9b2b",
   "metadata": {},
   "outputs": [
    {
     "name": "stdout",
     "output_type": "stream",
     "text": [
      "3\n"
     ]
    }
   ],
   "source": [
    "dummy = 1 + 2\n",
    "print(dummy)"
   ]
  },
  {
   "cell_type": "markdown",
   "id": "5ceac705-4117-470b-8854-b0f6e748dfdd",
   "metadata": {},
   "source": [
    "Use this file to test if already opened sessions are detected correctly by the plugin.\n",
    "\n",
    "1. Set the `Jupyter environment type` setting to `Lab`.\n",
    "2. Enable the `Delete Jupyter checkpoints` setting.\n",
    "3. Open `Checkpoints.ipynb` in an Obsidian tab.\n",
    "4. Open `Welcome.ipynb` in another Obsidian tab.\n",
    "5. Close the Obsidian tab containing `Checkpoints.ipynb`.\n",
    "6. Close the Obsidian tab containing `Welcome.ipynb`.\n",
    "7. At this point, both checkpoints folders should have been deleted.\n",
    "8. Now open only one Obsidian tab with `Welcome.ipynb`.\n",
    "9. The tab should display two Jupyter tabs inside of it, one for `Welcome.ipynb` and one for `Checkpoints.ipynb`.\n",
    "10. At this point, two checkpoints folders should exist, one in the vault's root folder, and one in the `Checkpoints` folder.\n",
    "11. Close the Obsidian tab.\n",
    "12. At this point, both checkpoints folders should have been deleted."
   ]
  }
 ],
 "metadata": {
  "kernelspec": {
   "display_name": "Python 3 (ipykernel)",
   "language": "python",
   "name": "python3"
  },
  "language_info": {
   "codemirror_mode": {
    "name": "ipython",
    "version": 3
   },
   "file_extension": ".py",
   "mimetype": "text/x-python",
   "name": "python",
   "nbconvert_exporter": "python",
   "pygments_lexer": "ipython3",
   "version": "3.11.9"
  }
 },
 "nbformat": 4,
 "nbformat_minor": 5
}
